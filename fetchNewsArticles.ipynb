{
 "cells": [
  {
   "cell_type": "code",
   "execution_count": 1,
   "id": "f641d2e9",
   "metadata": {},
   "outputs": [],
   "source": [
    "import requests\n",
    "import pandas as pd\n",
    "from requests_html import HTML\n",
    "from requests_html import HTMLSession"
   ]
  },
  {
   "cell_type": "code",
   "execution_count": 2,
   "id": "c799a1c7",
   "metadata": {},
   "outputs": [],
   "source": [
    "def get_source(url):\n",
    "    try:\n",
    "        session = HTMLSession()\n",
    "        response = session.get(url)\n",
    "        return response\n",
    "    except requests.exceptions.RequestException as e:\n",
    "        print(e)"
   ]
  },
  {
   "cell_type": "code",
   "execution_count": 3,
   "id": "cd535810",
   "metadata": {},
   "outputs": [],
   "source": [
    "def get_feed(url):\n",
    "    response = get_source(url)\n",
    "    df = pd.DataFrame(columns=['title', 'pubDate', 'guid', 'description'])\n",
    "    with response as r:\n",
    "        items = r.html.find(\"item\", first = False)\n",
    "        for item in items:\n",
    "            title = item.find('title', first=True).text\n",
    "            pubDate = item.find('pubDate', first=True).text\n",
    "            guid = item.find('guid', first=True).text\n",
    "            description=item.find('description', first=True)\n",
    "            \n",
    "            row = {'title': title, 'pubDate': pubDate, 'guid': guid, 'description': description}\n",
    "            df = df.append(row, ignore_index = True)\n",
    "    return df"
   ]
  },
  {
   "cell_type": "code",
   "execution_count": 4,
   "id": "54b617b6",
   "metadata": {},
   "outputs": [
    {
     "name": "stdout",
     "output_type": "stream",
     "text": [
      "Every thing here is fucking working fine\n"
     ]
    },
    {
     "name": "stderr",
     "output_type": "stream",
     "text": [
      "/home/deepak/.local/lib/python3.8/site-packages/bs4/builder/__init__.py:545: XMLParsedAsHTMLWarning: It looks like you're parsing an XML document using an HTML parser. If this really is an HTML document (maybe it's XHTML?), you can ignore or filter this warning. If it's XML, you should know that using an XML parser will be more reliable. To parse this document as XML, make sure you have the lxml package installed, and pass the keyword argument `features=\"xml\"` into the BeautifulSoup constructor.\n",
      "  warnings.warn(\n",
      "/tmp/ipykernel_7185/1500469741.py:13: FutureWarning: The frame.append method is deprecated and will be removed from pandas in a future version. Use pandas.concat instead.\n",
      "  df = df.append(row, ignore_index = True)\n",
      "/tmp/ipykernel_7185/1500469741.py:13: FutureWarning: The frame.append method is deprecated and will be removed from pandas in a future version. Use pandas.concat instead.\n",
      "  df = df.append(row, ignore_index = True)\n",
      "/tmp/ipykernel_7185/1500469741.py:13: FutureWarning: The frame.append method is deprecated and will be removed from pandas in a future version. Use pandas.concat instead.\n",
      "  df = df.append(row, ignore_index = True)\n",
      "/tmp/ipykernel_7185/1500469741.py:13: FutureWarning: The frame.append method is deprecated and will be removed from pandas in a future version. Use pandas.concat instead.\n",
      "  df = df.append(row, ignore_index = True)\n",
      "/tmp/ipykernel_7185/1500469741.py:13: FutureWarning: The frame.append method is deprecated and will be removed from pandas in a future version. Use pandas.concat instead.\n",
      "  df = df.append(row, ignore_index = True)\n",
      "/tmp/ipykernel_7185/1500469741.py:13: FutureWarning: The frame.append method is deprecated and will be removed from pandas in a future version. Use pandas.concat instead.\n",
      "  df = df.append(row, ignore_index = True)\n",
      "/tmp/ipykernel_7185/1500469741.py:13: FutureWarning: The frame.append method is deprecated and will be removed from pandas in a future version. Use pandas.concat instead.\n",
      "  df = df.append(row, ignore_index = True)\n",
      "/tmp/ipykernel_7185/1500469741.py:13: FutureWarning: The frame.append method is deprecated and will be removed from pandas in a future version. Use pandas.concat instead.\n",
      "  df = df.append(row, ignore_index = True)\n",
      "/tmp/ipykernel_7185/1500469741.py:13: FutureWarning: The frame.append method is deprecated and will be removed from pandas in a future version. Use pandas.concat instead.\n",
      "  df = df.append(row, ignore_index = True)\n",
      "/tmp/ipykernel_7185/1500469741.py:13: FutureWarning: The frame.append method is deprecated and will be removed from pandas in a future version. Use pandas.concat instead.\n",
      "  df = df.append(row, ignore_index = True)\n"
     ]
    },
    {
     "data": {
      "text/html": [
       "<div>\n",
       "<style scoped>\n",
       "    .dataframe tbody tr th:only-of-type {\n",
       "        vertical-align: middle;\n",
       "    }\n",
       "\n",
       "    .dataframe tbody tr th {\n",
       "        vertical-align: top;\n",
       "    }\n",
       "\n",
       "    .dataframe thead th {\n",
       "        text-align: right;\n",
       "    }\n",
       "</style>\n",
       "<table border=\"1\" class=\"dataframe\">\n",
       "  <thead>\n",
       "    <tr style=\"text-align: right;\">\n",
       "      <th></th>\n",
       "      <th>title</th>\n",
       "      <th>pubDate</th>\n",
       "      <th>guid</th>\n",
       "      <th>description</th>\n",
       "    </tr>\n",
       "  </thead>\n",
       "  <tbody>\n",
       "    <tr>\n",
       "      <th>0</th>\n",
       "      <td>How to classify Google Search Console data in ...</td>\n",
       "      <td>Fri, 18 Nov 2022 00:00:00 +0000</td>\n",
       "      <td>https://practicaldatascience.co.uk/data-scienc...</td>\n",
       "      <td>&lt;Element 'description' &gt;</td>\n",
       "    </tr>\n",
       "    <tr>\n",
       "      <th>1</th>\n",
       "      <td>How to use Pandas date_range() to create date ...</td>\n",
       "      <td>Sun, 13 Nov 2022 00:00:00 +0000</td>\n",
       "      <td>https://practicaldatascience.co.uk/data-scienc...</td>\n",
       "      <td>&lt;Element 'description' &gt;</td>\n",
       "    </tr>\n",
       "    <tr>\n",
       "      <th>2</th>\n",
       "      <td>How to slugify column names and values in Pandas</td>\n",
       "      <td>Sat, 12 Nov 2022 00:00:00 +0000</td>\n",
       "      <td>https://practicaldatascience.co.uk/data-scienc...</td>\n",
       "      <td>&lt;Element 'description' &gt;</td>\n",
       "    </tr>\n",
       "    <tr>\n",
       "      <th>3</th>\n",
       "      <td>How to identify and remove duplicate values in...</td>\n",
       "      <td>Sat, 12 Nov 2022 00:00:00 +0000</td>\n",
       "      <td>https://practicaldatascience.co.uk/data-scienc...</td>\n",
       "      <td>&lt;Element 'description' &gt;</td>\n",
       "    </tr>\n",
       "    <tr>\n",
       "      <th>4</th>\n",
       "      <td>How to identify and count unique values in Pandas</td>\n",
       "      <td>Sat, 12 Nov 2022 00:00:00 +0000</td>\n",
       "      <td>https://practicaldatascience.co.uk/data-scienc...</td>\n",
       "      <td>&lt;Element 'description' &gt;</td>\n",
       "    </tr>\n",
       "  </tbody>\n",
       "</table>\n",
       "</div>"
      ],
      "text/plain": [
       "                                               title  \\\n",
       "0  How to classify Google Search Console data in ...   \n",
       "1  How to use Pandas date_range() to create date ...   \n",
       "2   How to slugify column names and values in Pandas   \n",
       "3  How to identify and remove duplicate values in...   \n",
       "4  How to identify and count unique values in Pandas   \n",
       "\n",
       "                           pubDate  \\\n",
       "0  Fri, 18 Nov 2022 00:00:00 +0000   \n",
       "1  Sun, 13 Nov 2022 00:00:00 +0000   \n",
       "2  Sat, 12 Nov 2022 00:00:00 +0000   \n",
       "3  Sat, 12 Nov 2022 00:00:00 +0000   \n",
       "4  Sat, 12 Nov 2022 00:00:00 +0000   \n",
       "\n",
       "                                                guid               description  \n",
       "0  https://practicaldatascience.co.uk/data-scienc...  <Element 'description' >  \n",
       "1  https://practicaldatascience.co.uk/data-scienc...  <Element 'description' >  \n",
       "2  https://practicaldatascience.co.uk/data-scienc...  <Element 'description' >  \n",
       "3  https://practicaldatascience.co.uk/data-scienc...  <Element 'description' >  \n",
       "4  https://practicaldatascience.co.uk/data-scienc...  <Element 'description' >  "
      ]
     },
     "execution_count": 4,
     "metadata": {},
     "output_type": "execute_result"
    }
   ],
   "source": [
    "\n",
    "url = \"https://practicaldatascience.co.uk/feed.xml\"\n",
    "df = get_feed(url)\n",
    "df.head()"
   ]
  },
  {
   "cell_type": "code",
   "execution_count": 6,
   "id": "d045c3ab",
   "metadata": {},
   "outputs": [
    {
     "data": {
      "text/plain": [
       "40"
      ]
     },
     "execution_count": 6,
     "metadata": {},
     "output_type": "execute_result"
    }
   ],
   "source": [
    "df.size"
   ]
  },
  {
   "cell_type": "code",
   "execution_count": 10,
   "id": "8b41beec",
   "metadata": {},
   "outputs": [
    {
     "data": {
      "text/plain": [
       "(10, 4)"
      ]
     },
     "execution_count": 10,
     "metadata": {},
     "output_type": "execute_result"
    }
   ],
   "source": [
    "df.shape"
   ]
  },
  {
   "cell_type": "code",
   "execution_count": 13,
   "id": "152e2783",
   "metadata": {},
   "outputs": [
    {
     "data": {
      "text/plain": [
       "'How to classify Google Search Console data in EcommerceTools'"
      ]
     },
     "execution_count": 13,
     "metadata": {},
     "output_type": "execute_result"
    }
   ],
   "source": [
    "df['title'][0]"
   ]
  },
  {
   "cell_type": "code",
   "execution_count": null,
   "id": "562924f0",
   "metadata": {},
   "outputs": [],
   "source": []
  }
 ],
 "metadata": {
  "kernelspec": {
   "display_name": "Python 3 (ipykernel)",
   "language": "python",
   "name": "python3"
  },
  "language_info": {
   "codemirror_mode": {
    "name": "ipython",
    "version": 3
   },
   "file_extension": ".py",
   "mimetype": "text/x-python",
   "name": "python",
   "nbconvert_exporter": "python",
   "pygments_lexer": "ipython3",
   "version": "3.8.10"
  }
 },
 "nbformat": 4,
 "nbformat_minor": 5
}
