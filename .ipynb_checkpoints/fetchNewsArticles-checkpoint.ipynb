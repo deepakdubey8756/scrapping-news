{
 "cells": [
  {
   "cell_type": "code",
   "execution_count": 6,
   "id": "f641d2e9",
   "metadata": {},
   "outputs": [],
   "source": [
    "import requests\n",
    "import pandas as pd\n",
    "from requests_html import HTML\n",
    "from requests_html import HTMLSession"
   ]
  },
  {
   "cell_type": "code",
   "execution_count": 7,
   "id": "c799a1c7",
   "metadata": {},
   "outputs": [],
   "source": [
    "def get_source(url):\n",
    "    try:\n",
    "        session = HTMLSession()\n",
    "        print(\"Every thing here is fucking working fine\")\n",
    "        response = session.get(url)\n",
    "        return response\n",
    "    except requests.exceptions.RequestException as e:\n",
    "        print(e)"
   ]
  },
  {
   "cell_type": "code",
   "execution_count": 8,
   "id": "cd535810",
   "metadata": {},
   "outputs": [],
   "source": [
    "def get_feed(url):\n",
    "    response = get_source(url)\n",
    "    df = pd.DataFrame(columns=['title', 'pubDate', 'guid', 'description'])\n",
    "    with response as r:\n",
    "        items = r.html.find(\"item\", first = False)\n",
    "        for item in items:\n",
    "            title = item.find('title', first=True).text\n",
    "            pubDate = item.find('pubDate', first=True).text\n",
    "            guid = item.find('guid', first=True).text\n",
    "            description=item.find('description', first=True)\n",
    "            \n",
    "            row = {'title': title, 'pubDate': pubDate, 'guid': guid, 'description': description}\n",
    "            df = df.append(row, ignore_index = True)\n",
    "    return df"
   ]
  },
  {
   "cell_type": "code",
   "execution_count": 9,
   "id": "54b617b6",
   "metadata": {},
   "outputs": [],
   "source": [
    "\n",
    "# url = \"https://practicaldatascience.co.uk/feed.xml\"\n",
    "# # df = get_feed(url)\n",
    "# # df.head()\n",
    "# p = get_source(url)\n",
    "# print(p)"
   ]
  },
  {
   "cell_type": "code",
   "execution_count": 10,
   "id": "d556142f",
   "metadata": {},
   "outputs": [
    {
     "name": "stdout",
     "output_type": "stream",
     "text": [
      "<Response [200]>\n"
     ]
    }
   ],
   "source": [
    "session = HTMLSession()\n",
    "r = session.get('https://python.org/')\n",
    "with response as r:\n",
    "    print(r.text)"
   ]
  },
  {
   "cell_type": "code",
   "execution_count": null,
   "id": "15a0034a",
   "metadata": {},
   "outputs": [],
   "source": []
  },
  {
   "cell_type": "code",
   "execution_count": null,
   "id": "f552fa3e",
   "metadata": {},
   "outputs": [],
   "source": []
  }
 ],
 "metadata": {
  "kernelspec": {
   "display_name": "Python 3 (ipykernel)",
   "language": "python",
   "name": "python3"
  },
  "language_info": {
   "codemirror_mode": {
    "name": "ipython",
    "version": 3
   },
   "file_extension": ".py",
   "mimetype": "text/x-python",
   "name": "python",
   "nbconvert_exporter": "python",
   "pygments_lexer": "ipython3",
   "version": "3.8.10"
  }
 },
 "nbformat": 4,
 "nbformat_minor": 5
}
